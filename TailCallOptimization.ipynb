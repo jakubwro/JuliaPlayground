{
 "cells": [
  {
   "cell_type": "code",
   "execution_count": 26,
   "metadata": {},
   "outputs": [
    {
     "data": {
      "text/plain": [
       "@tco (macro with 1 method)"
      ]
     },
     "execution_count": 26,
     "metadata": {},
     "output_type": "execute_result"
    }
   ],
   "source": [
    "function isRecursive(expr :: Expr) :: Bool\n",
    "    return true #TODO\n",
    "end\n",
    "\n",
    "function isTailRecursive(expr :: Expr) :: Bool\n",
    "    return true #TODO\n",
    "end\n",
    "\n",
    "function isFunctionDefinition(expr :: Expr) :: Bool\n",
    "    return isa(expr, Expr) && expr.head === :function\n",
    "end\n",
    "\n",
    "macro tco(f)\n",
    "    if !isFunctionDefinition(f)\n",
    "        @error \"Not a function definiion!\"\n",
    "        return f\n",
    "    end\n",
    "    \n",
    "    if !isTailRecursive(f)\n",
    "        @error \"Not a tail recursive function!\"\n",
    "        return f\n",
    "    end\n",
    "    \n",
    "    name = f.args[1]\n",
    "    body = f.args[2]\n",
    "    \n",
    "    allButLast = body.args[1:end-1]\n",
    "    last = body.args[end]\n",
    "    \n",
    "    left = [:($(i.args[1])) for i in name.args[2:end]]\n",
    "    right = [i for i in last.args[1].args[2:end]]\n",
    "    assignment = :( $(Expr(:tuple, left...)) = $(Expr(:tuple, right...)) )\n",
    "    \n",
    "    newBody = [allButLast; assignment]\n",
    "    \n",
    "    if name.args[1] != last.args[1].args[1]\n",
    "        @error \"Not a tail recursive function!\"\n",
    "        return f\n",
    "    end\n",
    "    \n",
    "    return Expr(\n",
    "        f.head,\n",
    "        f.args[1],\n",
    "        Expr(:block,\n",
    "            Expr(\n",
    "                :while,\n",
    "                true,\n",
    "                Expr(\n",
    "                    body.head,\n",
    "                    newBody...))))\n",
    "    \n",
    "end"
   ]
  },
  {
   "cell_type": "code",
   "execution_count": 27,
   "metadata": {},
   "outputs": [
    {
     "data": {
      "text/plain": [
       ":(function (Main.fib)(#167#n::Main.Int64, #168#a::Main.Int64, #169#b::Main.Int64)\n",
       "      while true\n",
       "          #= In[27]:2 =#\n",
       "          if #167#n == 1\n",
       "              #= In[27]:3 =#\n",
       "              return #168#a\n",
       "          end\n",
       "          #= In[27]:6 =#\n",
       "          if #167#n == 2\n",
       "              #= In[27]:7 =#\n",
       "              return #169#b\n",
       "          end\n",
       "          #= In[27]:10 =#\n",
       "          (#167#n, #168#a, #169#b) = (#167#n - 1, #169#b, #168#a + #169#b)\n",
       "      end\n",
       "  end)"
      ]
     },
     "execution_count": 27,
     "metadata": {},
     "output_type": "execute_result"
    }
   ],
   "source": [
    "@macroexpand @tco function fib(n :: Int64, a :: Int64, b :: Int64)\n",
    "    if (n == 1)\n",
    "        return a\n",
    "    end\n",
    "    \n",
    "    if (n == 2)\n",
    "        return b\n",
    "    end\n",
    "    \n",
    "    return fib(n-1, b, a+b)\n",
    "end"
   ]
  },
  {
   "cell_type": "code",
   "execution_count": 28,
   "metadata": {},
   "outputs": [
    {
     "data": {
      "text/plain": [
       "fib_with_tco (generic function with 2 methods)"
      ]
     },
     "execution_count": 28,
     "metadata": {},
     "output_type": "execute_result"
    }
   ],
   "source": [
    "@tco function fib_with_tco(n :: Int64, a :: Int64, b :: Int64)\n",
    "    if (n == 1)\n",
    "        return a\n",
    "    end\n",
    "    \n",
    "    if (n == 2)\n",
    "        return b\n",
    "    end\n",
    "    \n",
    "    return fib_with_tco(n-1, b, a+b)\n",
    "end"
   ]
  },
  {
   "cell_type": "code",
   "execution_count": 29,
   "metadata": {},
   "outputs": [
    {
     "data": {
      "text/plain": [
       "fib_without_tco (generic function with 2 methods)"
      ]
     },
     "execution_count": 29,
     "metadata": {},
     "output_type": "execute_result"
    }
   ],
   "source": [
    "function fib_without_tco(n :: Int64, a :: Int64, b :: Int64)\n",
    "    if (n == 1)\n",
    "        return a\n",
    "    end\n",
    "    \n",
    "    if (n == 2)\n",
    "        return b\n",
    "    end\n",
    "    \n",
    "    return fib_without_tco(n-1, b, a+b)\n",
    "end"
   ]
  },
  {
   "cell_type": "code",
   "execution_count": 30,
   "metadata": {},
   "outputs": [],
   "source": [
    "using BenchmarkTools"
   ]
  },
  {
   "cell_type": "code",
   "execution_count": 56,
   "metadata": {},
   "outputs": [
    {
     "name": "stdout",
     "output_type": "stream",
     "text": [
      "  0.000628 seconds (5 allocations: 176 bytes)\n"
     ]
    },
    {
     "data": {
      "text/plain": [
       "-4249520595888827205"
      ]
     },
     "execution_count": 56,
     "metadata": {},
     "output_type": "execute_result"
    }
   ],
   "source": [
    "@time fib_with_tco(1000000, 1, 1)"
   ]
  },
  {
   "cell_type": "code",
   "execution_count": 57,
   "metadata": {},
   "outputs": [
    {
     "ename": "StackOverflowError",
     "evalue": "StackOverflowError:",
     "output_type": "error",
     "traceback": [
      "StackOverflowError:",
      "",
      "Stacktrace:",
      " [1] fib_without_tco(::Int64, ::Int64, ::Int64) at ./In[29]:10 (repeats 80000 times)"
     ]
    }
   ],
   "source": [
    "@time fib_without_tco(1000000, 1, 1)"
   ]
  },
  {
   "cell_type": "code",
   "execution_count": 58,
   "metadata": {},
   "outputs": [
    {
     "data": {
      "text/plain": [
       "CodeInfo(\n",
       "\u001b[90m1 ─\u001b[39m       #171#a = a\n",
       "\u001b[90m│  \u001b[39m       #170#n = n\n",
       "\u001b[90m└──\u001b[39m       #172#b = b\n",
       "\u001b[90m2 ┄\u001b[39m       goto #8 if not true\n",
       "\u001b[90m3 ─\u001b[39m %5  = #170#n == 1\n",
       "\u001b[90m└──\u001b[39m       goto #5 if not %5\n",
       "\u001b[90m4 ─\u001b[39m       return #171#a\n",
       "\u001b[90m5 ─\u001b[39m %8  = #170#n == 2\n",
       "\u001b[90m└──\u001b[39m       goto #7 if not %8\n",
       "\u001b[90m6 ─\u001b[39m       return #172#b\n",
       "\u001b[90m7 ─\u001b[39m %11 = #170#n - 1\n",
       "\u001b[90m│  \u001b[39m %12 = #172#b\n",
       "\u001b[90m│  \u001b[39m %13 = #171#a + #172#b\n",
       "\u001b[90m│  \u001b[39m       #170#n = %11\n",
       "\u001b[90m│  \u001b[39m       #171#a = %12\n",
       "\u001b[90m│  \u001b[39m       #172#b = %13\n",
       "\u001b[90m└──\u001b[39m       goto #2\n",
       "\u001b[90m8 ─\u001b[39m       return\n",
       ")"
      ]
     },
     "execution_count": 58,
     "metadata": {},
     "output_type": "execute_result"
    }
   ],
   "source": [
    "@code_lowered fib_with_tco(10, 1, 1)"
   ]
  },
  {
   "cell_type": "code",
   "execution_count": 59,
   "metadata": {},
   "outputs": [
    {
     "data": {
      "text/plain": [
       "CodeInfo(\n",
       "\u001b[90m1 ─\u001b[39m %1 = n == 1\n",
       "\u001b[90m└──\u001b[39m      goto #3 if not %1\n",
       "\u001b[90m2 ─\u001b[39m      return a\n",
       "\u001b[90m3 ─\u001b[39m %4 = n == 2\n",
       "\u001b[90m└──\u001b[39m      goto #5 if not %4\n",
       "\u001b[90m4 ─\u001b[39m      return b\n",
       "\u001b[90m5 ─\u001b[39m %7 = n - 1\n",
       "\u001b[90m│  \u001b[39m %8 = a + b\n",
       "\u001b[90m│  \u001b[39m %9 = (Main.fib_without_tco)(%7, b, %8)\n",
       "\u001b[90m└──\u001b[39m      return %9\n",
       ")"
      ]
     },
     "execution_count": 59,
     "metadata": {},
     "output_type": "execute_result"
    }
   ],
   "source": [
    "@code_lowered fib_without_tco(10, 1, 1)"
   ]
  },
  {
   "cell_type": "code",
   "execution_count": 76,
   "metadata": {},
   "outputs": [
    {
     "data": {
      "text/plain": [
       "factorial_with_tco (generic function with 2 methods)"
      ]
     },
     "execution_count": 76,
     "metadata": {},
     "output_type": "execute_result"
    }
   ],
   "source": [
    "@tco function factorial_with_tco(n::Int64, a::BigInt)\n",
    "    \n",
    "    if (n == 1)\n",
    "        return a\n",
    "    end\n",
    "    \n",
    "    return factorial_with_tco(n-1, n*a)\n",
    "end"
   ]
  },
  {
   "cell_type": "code",
   "execution_count": 77,
   "metadata": {},
   "outputs": [
    {
     "data": {
      "text/plain": [
       "factorial_without_tco (generic function with 2 methods)"
      ]
     },
     "execution_count": 77,
     "metadata": {},
     "output_type": "execute_result"
    }
   ],
   "source": [
    "function factorial_without_tco(n::Int64, a::BigInt)\n",
    "    \n",
    "    if (n == 1)\n",
    "        return a\n",
    "    end\n",
    "    \n",
    "    return factorial_without_tco(n-1, n*a)\n",
    "end"
   ]
  },
  {
   "cell_type": "code",
   "execution_count": 85,
   "metadata": {},
   "outputs": [
    {
     "name": "stdout",
     "output_type": "stream",
     "text": [
      "  0.000066 seconds (303 allocations: 8.000 KiB)\n"
     ]
    },
    {
     "data": {
      "text/plain": [
       "93326215443944152681699238856266700490715968264381621468592963895217599993229915608941463976156518286253697920827223758251185210916864000000000000000000000000"
      ]
     },
     "execution_count": 85,
     "metadata": {},
     "output_type": "execute_result"
    }
   ],
   "source": [
    "factorial_with_tco(100, BigInt(1))"
   ]
  },
  {
   "cell_type": "code",
   "execution_count": 86,
   "metadata": {},
   "outputs": [
    {
     "name": "stdout",
     "output_type": "stream",
     "text": [
      "  0.000044 seconds (303 allocations: 8.000 KiB)\n"
     ]
    },
    {
     "data": {
      "text/plain": [
       "93326215443944152681699238856266700490715968264381621468592963895217599993229915608941463976156518286253697920827223758251185210916864000000000000000000000000"
      ]
     },
     "execution_count": 86,
     "metadata": {},
     "output_type": "execute_result"
    }
   ],
   "source": [
    "factorial_without_tco(100, BigInt(1))"
   ]
  },
  {
   "cell_type": "code",
   "execution_count": null,
   "metadata": {},
   "outputs": [],
   "source": []
  }
 ],
 "metadata": {
  "@webio": {
   "lastCommId": null,
   "lastKernelId": null
  },
  "kernelspec": {
   "display_name": "Julia 1.1.0",
   "language": "julia",
   "name": "julia-1.1"
  },
  "language_info": {
   "file_extension": ".jl",
   "mimetype": "application/julia",
   "name": "julia",
   "version": "1.1.1"
  }
 },
 "nbformat": 4,
 "nbformat_minor": 2
}
